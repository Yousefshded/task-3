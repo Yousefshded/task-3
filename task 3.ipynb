{
 "cells": [
  {
   "cell_type": "markdown",
   "id": "09d26968",
   "metadata": {},
   "source": [
    "# How to Block Websites ?"
   ]
  },
  {
   "cell_type": "markdown",
   "id": "9724fe19",
   "metadata": {},
   "source": [
    "1- Open your web browser and type in the IP address of your router.\n",
    "\n",
    "2- Log in to your router’s settings.\n",
    "\n",
    "3- Find the website blocking tool in your router’s settings.\n",
    "\n",
    "4- Enter the websites that you want to block.\n",
    "\n",
    "5- Save your changes and restart your router.\n",
    "\n",
    "\n",
    "Block Sites Through Router\n",
    "No matter what operating system you use, changing router settings lets you block sites across all browsers and computers. Keep in mind that this will affect everyone in your household or business.\n",
    "1.\tFind your router’s IP, and type it into any browser’s address bar to get to its settings page. Try 192.168.1.1 or 192.168.0.1, or use this guide to find it. You’ll also need your router username and password. If you haven’t changed it, the username is usually admin, and the password admin, password, or leaving it blank. If that doesn’t work, check your router’s manual.\n",
    "2.\tOnce you’re in your router settings page, look for a setting called Block Sites, Access Restrictions, or something similar. You might find it under Security, Parental Controls, or Advanced. Every router is different, so again consult your manual.\n",
    "3.\tOnce you find the setting, enter the domains you want to block. Now no one connected to this network can visit that site.\n",
    "\n",
    "\n",
    "\n",
    "\n",
    "\n",
    "\n",
    "------------------------------------------------------------------\n",
    "\n",
    " \n",
    " \n",
    " \n",
    "1. Make sure that you have administrator access on your computer. Log in to your computer with an administrator account\n",
    "\n",
    "2. Double-click on the file named \"hosts\" and select Notepad from the list of programs to open the file. Click OK. The last two lines of the hosts file should read \"#127.0.0.1 localhost\" and \"#::1 localhost\".\n",
    "\n",
    "3 . In the window that pops up, select the account again and check Full Control. Click Apply > Yes. Now click OK in all the popups.\n",
    "\n",
    "4 . At the end of the file, you can add URLs to block. To do this, just add a line at the end of the file, with 127.0.0.1 and then the name of the site you want to block - this will redirect the site name to your local computer.\n",
    "\n",
    "4. To block Google, for example, add \"127.0.0.1 www.google.com\" to the end of the file without the quotes. You can block as many sites as you want in this way, but remember that you cannot add more than one site per line.\n",
    "\n",
    "5. Repeat this step until you have finished adding all the websites you want to block.\n",
    "\n",
    "6. Now close the hosts file and click save. Restart your computer for the changes to take effect and you'll find that all these websites are now blocked"
   ]
  },
  {
   "cell_type": "markdown",
   "id": "46cf0aca",
   "metadata": {},
   "source": [
    "# What are the  types of inheritance ?"
   ]
  },
  {
   "cell_type": "markdown",
   "id": "6fe13bc2",
   "metadata": {},
   "source": [
    "Inheritance is an essential aspect of so-called Object Oriented Programming (OOPs) the inheritance is that it provides a way to reuse code, as the same code has been written multiple times, over and over again, instead we can use inheriting a copy of the specified properties of one class to another.\n",
    "\n",
    "Single inheritance : In single inheritance, a derived class  is created from a single base class.\n",
    "\n",
    "\n",
    "\n",
    "Multi-level inheritance : In this inheritance, a derived class  is created from another derived class.\n",
    "\n",
    "\n",
    "Multiple inheritance : In this inheritance, a derived class is created from more than one base class. This inheritance is not supported by Languages like C#, F# and Java \n",
    "\n",
    "\n",
    "Multipath inheritance : In this inheritance, a derived class is created from other derived classes and the same base class of other derived classes. This inheritance is not supported by  Languages like C#, F#\n",
    "\n",
    "Hierarchical Inheritance : In this inheritance, more than one derived class is created from a single base class and further child classes act as parent classes for more than one child class.\n",
    "\n",
    "Hybrid inheritance : This is a combination of more than one inheritance. Hence, it may be a combination of Multilevel and Multiple inheritance or Hierarchical and Multilevel inheritance Hierarchical and Multipath inheritance, or Hierarchical, Multilevel and Multiple inheritances."
   ]
  },
  {
   "cell_type": "markdown",
   "id": "15e98da2",
   "metadata": {},
   "source": [
    "# Passing a function as a parameter in C++ "
   ]
  },
  {
   "cell_type": "code",
   "execution_count": null,
   "id": "689e5c7f",
   "metadata": {},
   "outputs": [],
   "source": [
    "// C++ program to pass function as a\n",
    "// pointer to any function\n",
    "\n",
    "#include <iostream>\n",
    "using namespace std;\n",
    "\n",
    "// Function that add two numbers\n",
    "int add(int x, int y)\n",
    "{\n",
    "\treturn x + y;\n",
    "}\n",
    "\n",
    "// Function that multiplies two\n",
    "// numbers\n",
    "int multiply(int x, int y)\n",
    "{\n",
    "\treturn x * y;\n",
    "}\n",
    "\n",
    "// Function that takes a pointer\n",
    "// to a function\n",
    "int invoke(int x, int y,\n",
    "\t\tint (*func)(int, int))\n",
    "{\n",
    "\treturn func(x, y);\n",
    "}\n",
    "\n",
    "// Driver Code\n",
    "int main()\n",
    "{\n",
    "\t// Pass pointers to add & multiply\n",
    "\t// function as required\n",
    "\tcout << \"Addition of 20 and 10 is \";\n",
    "\tcout << invoke(20, 10, &add)\n",
    "\t\t<< '\\n';\n",
    "\n",
    "\tcout << \"Multiplication of 20\"\n",
    "\t\t<< \" and 10 is \";\n",
    "\tcout << invoke(20, 10, &multiply)\n",
    "\t\t<< '\\n';\n",
    "\n",
    "\treturn 0;\n",
    "}\n"
   ]
  },
  {
   "cell_type": "code",
   "execution_count": null,
   "id": "b49a949a",
   "metadata": {},
   "outputs": [],
   "source": [
    "Addition of 20 and 10 is 30\n",
    "Multiplication of 20 and 10 is 200"
   ]
  },
  {
   "cell_type": "markdown",
   "id": "7486ea6c",
   "metadata": {},
   "source": [
    "# Example of von Neumann architecture still used "
   ]
  },
  {
   "cell_type": "markdown",
   "id": "f5434ef8",
   "metadata": {},
   "source": [
    "Microprocessors (with memory other than cache outside the chip), on the whole, use von Neumann architecture.  program and data are located in the same memory. Microprocessors are predominately used in devices like desktop computers, laptops, tablets, and smartphones. After booting up using a small program in read-only memory, they load application programs into dynamic RAM (DRAM), which contains both the program and data, \n",
    "\n",
    " (CPU cannot access program and data at the same time), local caches are often added for both instructions and data.\n",
    "\n",
    "A small percentage of embedded systems use microprocessors as well, usually running some form of Linux."
   ]
  },
  {
   "cell_type": "markdown",
   "id": "e4ddd838",
   "metadata": {},
   "source": [
    "# Difference between library, platform and framework?"
   ]
  },
  {
   "cell_type": "markdown",
   "id": "5ea54255",
   "metadata": {},
   "source": [
    "Library is just a set of tools for you to use. It won't normally enforce a workflow on you and your code will be executing library code. Math is a good example of a library.\n",
    "\n",
    "Framework enforces workflow as it is a working thing and only gives you extension points to put your code in and it will run your code and control things for you. For example you have no control when spring framework will call your controller. You are given guidelines on what you need to do for Spring to think your class is a controller.\n",
    " \n",
    "The platform defines a standard around which a system can be developed. It will have a set of standard APIs that expose specific components (streams, file system, ports, etc) for your use. JVM is a good example of a platform as well as operating systems."
   ]
  }
 ],
 "metadata": {
  "kernelspec": {
   "display_name": "Python 3 (ipykernel)",
   "language": "python",
   "name": "python3"
  },
  "language_info": {
   "codemirror_mode": {
    "name": "ipython",
    "version": 3
   },
   "file_extension": ".py",
   "mimetype": "text/x-python",
   "name": "python",
   "nbconvert_exporter": "python",
   "pygments_lexer": "ipython3",
   "version": "3.9.7"
  }
 },
 "nbformat": 4,
 "nbformat_minor": 5
}
